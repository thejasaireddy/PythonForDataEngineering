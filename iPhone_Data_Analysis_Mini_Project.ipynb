{
  "nbformat": 4,
  "nbformat_minor": 0,
  "metadata": {
    "colab": {
      "private_outputs": true,
      "provenance": [],
      "authorship_tag": "ABX9TyNtpuAHjI3Osa8YXYJcwlYB",
      "include_colab_link": true
    },
    "kernelspec": {
      "name": "python3",
      "display_name": "Python 3"
    },
    "language_info": {
      "name": "python"
    }
  },
  "cells": [
    {
      "cell_type": "markdown",
      "metadata": {
        "id": "view-in-github",
        "colab_type": "text"
      },
      "source": [
        "<a href=\"https://colab.research.google.com/github/thejasaireddy/PythonForDataEngineering/blob/main/iPhone_Data_Analysis_Mini_Project.ipynb\" target=\"_parent\"><img src=\"https://colab.research.google.com/assets/colab-badge.svg\" alt=\"Open In Colab\"/></a>"
      ]
    },
    {
      "cell_type": "code",
      "execution_count": null,
      "metadata": {
        "id": "2_Y91OrPWBsf"
      },
      "outputs": [],
      "source": [
        "import pandas as pd"
      ]
    },
    {
      "cell_type": "code",
      "source": [
        "df = pd.read_csv(\"/content/apple_products.csv\")"
      ],
      "metadata": {
        "id": "-3qQBlsYWSSW"
      },
      "execution_count": null,
      "outputs": []
    },
    {
      "cell_type": "code",
      "source": [
        "df.head()"
      ],
      "metadata": {
        "id": "eQ3gTAn0XcGU"
      },
      "execution_count": null,
      "outputs": []
    },
    {
      "cell_type": "code",
      "source": [
        "df.count()"
      ],
      "metadata": {
        "id": "2ySms45YXoId"
      },
      "execution_count": null,
      "outputs": []
    },
    {
      "cell_type": "code",
      "source": [
        "df['Mrp'].max()"
      ],
      "metadata": {
        "id": "v1zxcTjSX_Om"
      },
      "execution_count": null,
      "outputs": []
    },
    {
      "cell_type": "code",
      "source": [
        "df['Mrp'].min()"
      ],
      "metadata": {
        "id": "YURl8bkJYSmQ"
      },
      "execution_count": null,
      "outputs": []
    },
    {
      "cell_type": "code",
      "source": [
        "df[df['Mrp']==149900]"
      ],
      "metadata": {
        "id": "5eBojnlMY0FJ"
      },
      "execution_count": null,
      "outputs": []
    },
    {
      "cell_type": "code",
      "source": [
        "df[df['Mrp']==39900]"
      ],
      "metadata": {
        "id": "5_Za7ZGYZEb7"
      },
      "execution_count": null,
      "outputs": []
    },
    {
      "cell_type": "code",
      "source": [
        "df[df['Mrp']<=39900]"
      ],
      "metadata": {
        "id": "1bKoBKKjZSqp"
      },
      "execution_count": null,
      "outputs": []
    },
    {
      "cell_type": "code",
      "source": [
        "df[df['Mrp']<=100000]"
      ],
      "metadata": {
        "id": "6SoRcwslZZF7"
      },
      "execution_count": null,
      "outputs": []
    },
    {
      "cell_type": "code",
      "source": [
        "type(df['Product Name'])"
      ],
      "metadata": {
        "id": "k4z8imYpZcjR"
      },
      "execution_count": null,
      "outputs": []
    },
    {
      "cell_type": "code",
      "source": [
        "list(df['Product Name'])[0].upper()"
      ],
      "metadata": {
        "id": "xVzOkXvQaH7J"
      },
      "execution_count": null,
      "outputs": []
    },
    {
      "cell_type": "code",
      "source": [
        "list(df['Product Name'])[0].upper()[6:15].strip()"
      ],
      "metadata": {
        "id": "goXPfc4xa8Xq"
      },
      "execution_count": null,
      "outputs": []
    },
    {
      "cell_type": "code",
      "source": [
        "df['Model Name'] = df['Product Name'].str[6:15]"
      ],
      "metadata": {
        "id": "Q-KHzZhpbcYH"
      },
      "execution_count": null,
      "outputs": []
    },
    {
      "cell_type": "code",
      "source": [
        "df.head()"
      ],
      "metadata": {
        "id": "LdsXilUOcWu2"
      },
      "execution_count": null,
      "outputs": []
    },
    {
      "cell_type": "code",
      "source": [
        "df['Model Name'].head()"
      ],
      "metadata": {
        "id": "wX-frZBvcfpl"
      },
      "execution_count": null,
      "outputs": []
    },
    {
      "cell_type": "code",
      "source": [
        "df.sort_values(by='Star Rating', ascending=False)"
      ],
      "metadata": {
        "id": "FOyRXTTgc8Z_"
      },
      "execution_count": null,
      "outputs": []
    },
    {
      "cell_type": "code",
      "source": [],
      "metadata": {
        "id": "vMrNw4a8dYjY"
      },
      "execution_count": null,
      "outputs": []
    }
  ]
}